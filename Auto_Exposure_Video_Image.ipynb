{
 "cells": [
  {
   "cell_type": "code",
   "execution_count": 7,
   "id": "63b9a844",
   "metadata": {},
   "outputs": [],
   "source": [
    "import cv2 as cv2\n",
    "import pandas as pd\n",
    "import numpy as np"
   ]
  },
  {
   "cell_type": "code",
   "execution_count": 8,
   "id": "14d33ed2",
   "metadata": {},
   "outputs": [],
   "source": [
    "image=cv2.imread(\"Imgpath\",0)"
   ]
  },
  {
   "cell_type": "code",
   "execution_count": 9,
   "id": "e2183310",
   "metadata": {},
   "outputs": [
    {
     "data": {
      "text/plain": [
       "126.90263671875"
      ]
     },
     "execution_count": 9,
     "metadata": {},
     "output_type": "execute_result"
    }
   ],
   "source": [
    "np.mean(image)"
   ]
  },
  {
   "cell_type": "code",
   "execution_count": 10,
   "id": "8c792e3d",
   "metadata": {},
   "outputs": [],
   "source": [
    "cv2.imwrite(\"Save\",image)\n",
    "mean_value = np.mean(image)\n",
    "target_mean = 126 "
   ]
  },
  {
   "cell_type": "code",
   "execution_count": 11,
   "id": "5627c1fc",
   "metadata": {},
   "outputs": [],
   "source": [
    "# Adjust the exposure\n",
    "while abs(mean_value - target_mean) > 1:\n",
    "    # Increase or decrease exposure based on the mean value\n",
    "    if mean_value < target_mean:\n",
    "        exposure_adjustment = 1.1  # Increase exposure by multiplying\n",
    "    else:\n",
    "        exposure_adjustment = 0.9  # Decrease exposure by multiplying\n",
    "\n",
    "    # Adjust the image exposure\n",
    "    image = np.clip(image * exposure_adjustment, 0, 255)\n",
    "\n",
    "    # Calculate the new mean value\n",
    "    mean_value = np.mean(image)\n"
   ]
  },
  {
   "cell_type": "code",
   "execution_count": 12,
   "id": "744d06ba",
   "metadata": {},
   "outputs": [
    {
     "name": "stdout",
     "output_type": "stream",
     "text": [
      "149.9428373733985\n"
     ]
    }
   ],
   "source": [
    "print(mean_value)"
   ]
  },
  {
   "cell_type": "code",
   "execution_count": 14,
   "id": "ab4a2379",
   "metadata": {},
   "outputs": [
    {
     "data": {
      "text/plain": [
       "True"
      ]
     },
     "execution_count": 14,
     "metadata": {},
     "output_type": "execute_result"
    }
   ],
   "source": [
    "cv2.imwrite(\"Save2\",image)"
   ]
  },
  {
   "cell_type": "code",
   "execution_count": null,
   "id": "e993adb1",
   "metadata": {},
   "outputs": [],
   "source": [
    "\n",
    "\n",
    "\n"
   ]
  },
  {
   "cell_type": "code",
   "execution_count": 1,
   "id": "0668f2e8",
   "metadata": {},
   "outputs": [
    {
     "name": "stdout",
     "output_type": "stream",
     "text": [
      "Total frames processed: 197\n",
      "Modified video saved to: C:\\Senquire\\Development\\Auto_exposure_code\\Video2\\updated_video.mp4\n"
     ]
    }
   ],
   "source": [
    "import cv2\n",
    "import os\n",
    "import numpy as np\n",
    "\n",
    "# Define the input video file path\n",
    "video_path = \"Read Video.mp4\"\n",
    "\n",
    "# Create an output folder to save the modified video\n",
    "output_folder = \"Path where to save video\\Video2\"\n",
    "os.makedirs(output_folder, exist_ok=True)\n",
    "\n",
    "# Open the video file\n",
    "cap = cv2.VideoCapture(video_path)\n",
    "\n",
    "# Check if the video is successfully opened\n",
    "if not cap.isOpened():\n",
    "    print(\"Error opening video file.\")\n",
    "    exit()\n",
    "\n",
    "# Get the video's original width, height, and frames per second (fps)\n",
    "width = int(cap.get(cv2.CAP_PROP_FRAME_WIDTH))\n",
    "height = int(cap.get(cv2.CAP_PROP_FRAME_HEIGHT))\n",
    "fps = cap.get(cv2.CAP_PROP_FPS)\n",
    "\n",
    "# Create a VideoWriter object to save the modified video\n",
    "output_path = os.path.join(output_folder, \"updated_video.mp4\")\n",
    "fourcc = cv2.VideoWriter_fourcc(*\"mp4v\")\n",
    "out = cv2.VideoWriter(output_path, fourcc, fps, (width, height), isColor=True)\n",
    "\n",
    "frame_count = 0\n",
    "\n",
    "# Read each frame of the video\n",
    "while True:\n",
    "    ret, frame = cap.read()\n",
    "\n",
    "    # Break the loop if no frame is returned\n",
    "    if not ret:\n",
    "        break\n",
    "\n",
    "    frame_count += 1\n",
    "\n",
    "    # Calculate the mean value of the frame\n",
    "    frame_mean = frame.mean(axis=(0, 1))\n",
    "\n",
    "    # Check if the mean value is less than 150\n",
    "    if np.any(frame_mean < 150):\n",
    "        # Calculate the exposure adjustment factor\n",
    "        exposure_factor = 150 / frame_mean\n",
    "\n",
    "        # Increase the exposure by element-wise multiplication of the frame with the exposure factor\n",
    "        adjusted_frame = np.clip(frame * exposure_factor, 0, 255).astype(np.uint8)\n",
    "\n",
    "        # Write the adjusted frame to the modified video\n",
    "        out.write(adjusted_frame)\n",
    "\n",
    "    else:\n",
    "        # Write the original frame to the modified video\n",
    "        out.write(frame)\n",
    "\n",
    "# Release the video capture and video writer objects\n",
    "cap.release()\n",
    "out.release()\n",
    "\n",
    "print(f\"Total frames processed: {frame_count}\")\n",
    "print(f\"Modified video saved to: {output_path}\")"
   ]
  },
  {
   "cell_type": "code",
   "execution_count": null,
   "id": "9d6a1817",
   "metadata": {},
   "outputs": [],
   "source": []
  }
 ],
 "metadata": {
  "kernelspec": {
   "display_name": "Python 3 (ipykernel)",
   "language": "python",
   "name": "python3"
  },
  "language_info": {
   "codemirror_mode": {
    "name": "ipython",
    "version": 3
   },
   "file_extension": ".py",
   "mimetype": "text/x-python",
   "name": "python",
   "nbconvert_exporter": "python",
   "pygments_lexer": "ipython3",
   "version": "3.11.3"
  }
 },
 "nbformat": 4,
 "nbformat_minor": 5
}
